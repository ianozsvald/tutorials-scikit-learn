{
 "cells": [
  {
   "cell_type": "markdown",
   "id": "d25d6c22",
   "metadata": {},
   "source": [
    "# Hist Regressor Code Demo Training Script\n",
    "\n",
    "Code to show how to train a Scikit learn model on an example dataset.\n",
    "The code trains a model then pickles it and its preprocessor using joblib.\n",
    "This is done so that the model can be loaded later for inference.\n",
    "\n",
    "This code is not intended to be uploaded for BYOM but rather show how to create the necessary artefacts for running BYOM models.\n",
    "\n",
    "This code has largely been taken from: https://scikit-learn.org/stable/auto_examples/linear_model/plot_poisson_regression_non_normal_loss.html\n",
    "\n"
   ]
  },
  {
   "cell_type": "markdown",
   "id": "facc1800",
   "metadata": {},
   "source": [
    "# TODO\n",
    "\n",
    "* clipping of data?\n",
    "* make train/test split, fit and predict\n",
    "* show a score\n",
    "* optional features, as a test\n",
    "  * show a text feature to one-hot\n",
    "* shap to explain\n",
    "* show resampling to find uncertainty in a fixed test set"
   ]
  },
  {
   "cell_type": "code",
   "execution_count": 2,
   "id": "00f88e16",
   "metadata": {},
   "outputs": [
    {
     "name": "stdout",
     "output_type": "stream",
     "text": [
      "Fetching dataset\n"
     ]
    }
   ],
   "source": [
    "from joblib import dump\n",
    "from sklearn.datasets import fetch_openml\n",
    "from sklearn.compose import ColumnTransformer\n",
    "from sklearn.ensemble import HistGradientBoostingRegressor\n",
    "from sklearn.preprocessing import OrdinalEncoder\n",
    "\n",
    "print(\"Fetching dataset\")\n",
    "df = fetch_openml(data_id=41214, as_frame=True).frame"
   ]
  },
  {
   "cell_type": "code",
   "execution_count": 3,
   "id": "a0d5b484",
   "metadata": {},
   "outputs": [],
   "source": [
    "# ClaimNb is number of claims\n",
    "# Frequency is the expected frequency per month\n",
    "# \n",
    "df[\"Frequency\"] = df[\"ClaimNb\"] / df[\"Exposure\"]"
   ]
  },
  {
   "cell_type": "code",
   "execution_count": null,
   "id": "4f34620b",
   "metadata": {},
   "outputs": [],
   "source": [
    "tree_preprocessor = ColumnTransformer(\n",
    "    [\n",
    "        (\n",
    "            \"categorical\",\n",
    "            OrdinalEncoder(),\n",
    "            [\"VehBrand\", \"VehPower\", \"VehGas\", \"Region\", \"Area\"],\n",
    "        ),\n",
    "        (\"numeric\", \"passthrough\", [\"VehAge\", \"DrivAge\", \"BonusMalus\", \"Density\"]),\n",
    "    ],\n",
    "    remainder=\"drop\",\n",
    ")\n",
    "\n",
    "inputs = tree_preprocessor.fit_transform(df)\n"
   ]
  },
  {
   "cell_type": "code",
   "execution_count": 4,
   "id": "ffd687a6",
   "metadata": {},
   "outputs": [
    {
     "name": "stdout",
     "output_type": "stream",
     "text": [
      "Saving preprocessor\n",
      "Instancing model\n",
      "Fitting model\n"
     ]
    },
    {
     "data": {
      "text/plain": [
       "HistGradientBoostingRegressor(loss='poisson', max_leaf_nodes=128,\n",
       "                              random_state=0)"
      ]
     },
     "execution_count": 4,
     "metadata": {},
     "output_type": "execute_result"
    }
   ],
   "source": [
    "hist_model = HistGradientBoostingRegressor(loss=\"poisson\", max_leaf_nodes=128, random_state=0)\n",
    "\n",
    "print(\"Fitting model\")\n",
    "hist_model.fit(inputs, df[\"Frequency\"], sample_weight=df[\"Exposure\"])\n",
    "\n",
    "# note that after fitting - we'd save a model to disk for future use"
   ]
  },
  {
   "cell_type": "code",
   "execution_count": 5,
   "id": "58bfb015",
   "metadata": {},
   "outputs": [],
   "source": [
    "import numpy"
   ]
  },
  {
   "cell_type": "code",
   "execution_count": null,
   "id": "0ba4bcd3",
   "metadata": {},
   "outputs": [],
   "source": []
  }
 ],
 "metadata": {
  "kernelspec": {
   "display_name": "Python 3 (ipykernel)",
   "language": "python",
   "name": "python3"
  },
  "language_info": {
   "codemirror_mode": {
    "name": "ipython",
    "version": 3
   },
   "file_extension": ".py",
   "mimetype": "text/x-python",
   "name": "python",
   "nbconvert_exporter": "python",
   "pygments_lexer": "ipython3",
   "version": "3.10.2"
  }
 },
 "nbformat": 4,
 "nbformat_minor": 5
}
